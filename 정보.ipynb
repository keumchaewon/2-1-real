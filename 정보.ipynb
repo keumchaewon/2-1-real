{
 "cells": [
  {
   "cell_type": "code",
   "execution_count": 1,
   "metadata": {},
   "outputs": [],
   "source": [
    "#라이브러리 'math' 불러오기\n",
    "import math\n",
    "\n",
    "#낮의 비율 구하기\n",
    "def day_ratio(d,c):\n",
    "\n",
    "#주극성의 경우 하루종일 지평선 위에 떠있다\n",
    "    if 90-c <= d <=90:\n",
    "        return 1\n",
    "#전몰성의 경우 하루종일 지평선 위로 뜨지 않는다\n",
    "    if -90 <= d <= -(90-c):\n",
    "        return 0\n",
    "    \n",
    "#태양의 적위가 주어졌을 때 낮의 길이는 (arccos(tanA x tanB)/pi) x 24h\n",
    "#태양의 위도 : A, 태양의 적위 : B\n",
    "#낮의 길이에 대한 식은 태양이 지평선 위에 있는 시간의 비율을 고려하여 유도됨\n",
    "    r = math.acos(-math.tan(math.radians(d))*math.tan(math.radians(c)))\n",
    "    r_real = math.degrees(r)* 2\n",
    "    r_daytime = r_real/360\n",
    "    return r_daytime\n",
    "\n",
    "#시간이 소수인 경우 시간을 시, 분, 초로 나누어 리스트에 저장하는 함수\n",
    "def timecon(time):\n",
    "    listtime=[]\n",
    "    hour = int(time)\n",
    "    minute = int((time - hour)*60)\n",
    "    sec = int(((time - hour)*60 - minute)*60)\n",
    "    listtime.append(hour)\n",
    "    listtime.append(minute)\n",
    "    listtime.append(sec)\n",
    "    return listtime\n",
    "\n",
    "#날짜를 이용한 태양의 적위 구하기\n",
    "def decsun(mm,dd):\n",
    "    listmonth=[31,28,31,30,31,30,31,31,30,31,30,31]\n",
    "\n",
    "#그 날이 그 해의 몇 번째 날인지 구하기\n",
    "    cnt_date = 0\n",
    "    for i in range(mm-1):\n",
    "        cnt_date += listmonth[i]\n",
    "    cnt_date += dd\n",
    "\n",
    "#위에서 구한 n을 이용해 태양의 적위 구하기 \n",
    "    dec = 23.45 * math.sin(math.radians(((285 + cnt_date)/365)*360))\n",
    "    return dec\n",
    "\n",
    "#날짜를 알 때 태양의 적경 구하기\n",
    "def asc(mm,dd):\n",
    "    listmonth=[31,28,31,30,31,30,31,31,30,31,30,31]\n",
    "\n",
    "    cnt_date = 0\n",
    "    for i in range(mm-1):\n",
    "        cnt_date += listmonth[i]\n",
    "    cnt_date += dd\n",
    "    \n",
    "    if cnt_date-80 >= 0:\n",
    "        ascension = (cnt_date-80)*24/365\n",
    "    else: \n",
    "        ascension = 24+(cnt_date-80)*24/365\n",
    "    return ascension\n",
    "\n",
    "#별의 남중시각 구하기\n",
    "def starhigh(ascen):\n",
    "    nam = (ascen - asc(month,day)) + 12\n",
    "    return nam\n",
    "\n",
    "#별이 뜨는 시각 = 남중시각(starhigh) - 태양이 떠있는 시간의 절반\n",
    "def risetime(ratio):\n",
    "    if ratio == 1:\n",
    "        return '주극성'\n",
    "    elif ratio == 0:\n",
    "        return '전몰성'\n",
    "    else: \n",
    "        daytime = ratio*24\n",
    "        time_starrise = starhigh(asc_star) - daytime/2\n",
    "        return time_starrise\n",
    "\n",
    "#별이 지는 시각 = 남중시각(starhigh) + 태양이 떠있는 시간의 절반\n",
    "def settime(ratio):\n",
    "    if ratio == 1:\n",
    "        return '주극성'\n",
    "    elif ratio == 0:\n",
    "        return '전몰성'\n",
    "    else: \n",
    "        daytime = ratio*24\n",
    "        time_starset = starhigh(asc_star) + daytime/2\n",
    "        return time_starset\n",
    "\n",
    "#별을 관측할 수 있는 시간 구하기(해는 지고 별이 떠있는 시간)\n",
    "def obtime(riseset):\n",
    "    if s_list[-1] == time_starset:\n",
    "        if s_list[0] == time_starrise:\n",
    "            print(timecon(s_list[0])[0], ':',timecon(s_list[0])[1], ':', timecon(s_list[0])[2], '~', timecon(s_list[1])[0], ':', timecon(s_list[1])[1], ':', timecon(s_list[1])[2])\n",
    "            print(timecon(s_list[2])[0], ':',timecon(s_list[2])[1], ':', timecon(s_list[2])[2], '~', timecon(s_list[3])[0], ':', timecon(s_list[3])[1], ':', timecon(s_list[3])[2])\n",
    "        else:\n",
    "            print(timecon(s_list[-2])[0], ':', timecon(s_list[-2])[1], ':', timecon(s_list[-2])[2], '~',  timecon(s_list[-1])[0], ':', timecon(s_list[-1])[1], ':', timecon(s_list[-1])[2])\n",
    "    elif s_list[0] == time_starrise:\n",
    "        print(timecon(s_list[0])[0], ':',timecon(s_list[0])[1], ':', timecon(s_list[0])[2], '~', timecon(s_list[1])[0], ':', timecon(s_list[1])[1], ':', timecon(s_list[1])[2])\n",
    "    elif s_list[1] == time_starrise and s_list[2] == time_starset:\n",
    "        return '볼 수 없다'"
   ]
  },
  {
   "cell_type": "code",
   "execution_count": 2,
   "metadata": {},
   "outputs": [
    {
     "name": "stdout",
     "output_type": "stream",
     "text": [
      "월 :  6\n",
      "일 :  10\n",
      "위도(북반구는 +, 남반구는 - 로 입력하세요) :  37.5\n",
      "별의 적경 : 6\n",
      "별의 적위를 입력하세요 :  37\n"
     ]
    }
   ],
   "source": [
    "month = int(input('월 :  '))\n",
    "day = int(input('일 :  '))\n",
    "latitude = float(input('위도(북반구는 +, 남반구는 - 로 입력하세요) :  '))\n",
    "\n",
    "asc_star = float(input('별의 적경 : '))\n",
    "star_dec = float(input('별의 적위를 입력하세요 :  '))"
   ]
  },
  {
   "cell_type": "code",
   "execution_count": 3,
   "metadata": {},
   "outputs": [
    {
     "name": "stdout",
     "output_type": "stream",
     "text": [
      "별이 뜨는 시각 :  4 : 19 : 8\n",
      "별이 지는 시각 :  21 : 1 : 44\n"
     ]
    }
   ],
   "source": [
    "#별이 뜨고 지는 시각\n",
    "star_ratio = day_ratio(star_dec, latitude)\n",
    "\n",
    "time_starrise = risetime(star_ratio)\n",
    "time_starset = settime(star_ratio)\n",
    "\n",
    "starrise = timecon(time_starrise)\n",
    "starset = timecon(time_starset)\n",
    "\n",
    "print('별이 뜨는 시각 : ', starrise[0], ':', starrise[1], ':', starrise[2])\n",
    "print('별이 지는 시각 : ', starset[0], ':', starset[1], ':', starset[2])"
   ]
  },
  {
   "cell_type": "code",
   "execution_count": 4,
   "metadata": {},
   "outputs": [
    {
     "name": "stdout",
     "output_type": "stream",
     "text": [
      "해가 뜨는 시각 :  5 : 24 : 4\n",
      "해가 지는 시각 :  19 : 56 : 48\n"
     ]
    }
   ],
   "source": [
    "#태양이 뜨고 지는 시각\n",
    "sun_dec = decsun(month, day)\n",
    "sun_ratio = day_ratio(sun_dec, latitude)\n",
    "\n",
    "time_sunrise = risetime(sun_ratio)\n",
    "time_sunset = settime(sun_ratio)\n",
    "\n",
    "sunrise = timecon(time_sunrise)\n",
    "sunset = timecon(time_sunset)\n",
    "    \n",
    "print('해가 뜨는 시각 : ', sunrise[0], ':', sunrise[1], ':', sunrise[2])\n",
    "print('해가 지는 시각 : ', sunset[0], ':', sunset[1], ':', sunset[2])"
   ]
  },
  {
   "cell_type": "code",
   "execution_count": 5,
   "metadata": {},
   "outputs": [],
   "source": [
    "list_riseset = [time_sunrise, time_sunset, time_starrise, time_starset]\n",
    "s_list = sorted(list_riseset)"
   ]
  },
  {
   "cell_type": "code",
   "execution_count": 6,
   "metadata": {},
   "outputs": [
    {
     "name": "stdout",
     "output_type": "stream",
     "text": [
      "4 : 19 : 8 ~ 5 : 24 : 4\n",
      "19 : 56 : 48 ~ 21 : 1 : 44\n"
     ]
    }
   ],
   "source": [
    "#별을 볼 수 있는 시간\n",
    "obtime(s_list)"
   ]
  },
  {
   "cell_type": "code",
   "execution_count": null,
   "metadata": {},
   "outputs": [],
   "source": []
  }
 ],
 "metadata": {
  "kernelspec": {
   "display_name": "Python 3",
   "language": "python",
   "name": "python3"
  },
  "language_info": {
   "codemirror_mode": {
    "name": "ipython",
    "version": 3
   },
   "file_extension": ".py",
   "mimetype": "text/x-python",
   "name": "python",
   "nbconvert_exporter": "python",
   "pygments_lexer": "ipython3",
   "version": "3.6.4"
  }
 },
 "nbformat": 4,
 "nbformat_minor": 2
}
